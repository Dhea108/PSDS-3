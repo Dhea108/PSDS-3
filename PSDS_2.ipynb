{
  "nbformat": 4,
  "nbformat_minor": 0,
  "metadata": {
    "colab": {
      "provenance": [],
      "collapsed_sections": [
        "ZDJzdN-ovvX2",
        "g0vteVlTwhGQ",
        "yV_OmvsW86v4",
        "hoi4Qqwryguw",
        "9jajxl_Oy4Ax",
        "dcFSH8G2z9Cl",
        "PH47HYCl2fdW",
        "dDdiKprB31qi",
        "3HoQIqF03-mB",
        "qqGcTrIU4Zib",
        "f4h1Tifu4rF4",
        "DCwZht3J5XSM",
        "hekyoRmY5psp",
        "aFKwXBt0Epzv",
        "jT2wMF9A7dbw",
        "ICXVcr2HEgIe",
        "IYUEjZ549FPu",
        "7H_QhKHm9dYc",
        "t8PxBBI0-HQj",
        "AM2aiGpC-VUV",
        "2CjaExJe-tEb"
      ]
    },
    "kernelspec": {
      "name": "python3",
      "display_name": "Python 3"
    },
    "language_info": {
      "name": "python"
    }
  },
  "cells": [
    {
      "cell_type": "markdown",
      "source": [
        "# Operator"
      ],
      "metadata": {
        "id": "ZDJzdN-ovvX2"
      }
    },
    {
      "cell_type": "markdown",
      "source": [
        "Operator simbol yang didapat digunakan untuk mengubah nilai dari satu variabel dengan melibatkan satu atau lebih variabel dan literal.\n",
        "\n",
        "Tipe tipe operator:\n",
        "1. Operator Aritmatika\n",
        "2. Operator Assignment\n",
        "3. Operator Pembanding\n",
        "4. Operator Logika\n",
        "5. Operator Membership"
      ],
      "metadata": {
        "id": "fDRMQpoJvyyo"
      }
    },
    {
      "cell_type": "markdown",
      "source": [
        "# Operator Aritmatika"
      ],
      "metadata": {
        "id": "g0vteVlTwhGQ"
      }
    },
    {
      "cell_type": "markdown",
      "source": [
        "Operator Aritmatika digunakan untuk melakukan operasi matematika yang umum.\n",
        "\n",
        "Macam macam Operator Aritmaika, yaitu:"
      ],
      "metadata": {
        "id": "G_9TubZmw9qa"
      }
    },
    {
      "cell_type": "code",
      "source": [
        "+  : Penjumlahan\n",
        "-  : Pengurangan\n",
        "*  : Perkalian\n",
        "/  : Pembagian\n",
        "%  : Modulus\n",
        "** : Perpangkatan\n",
        "// : Pembagian dengan hasil pembulatan flooring"
      ],
      "metadata": {
        "id": "QiR6M4KfxQEg"
      },
      "execution_count": null,
      "outputs": []
    },
    {
      "cell_type": "markdown",
      "source": [
        "# Contoh Penggunaan Operator Aritmatika"
      ],
      "metadata": {
        "id": "yV_OmvsW86v4"
      }
    },
    {
      "cell_type": "code",
      "execution_count": null,
      "metadata": {
        "id": "_tjfIstv85Gy",
        "colab": {
          "base_uri": "https://localhost:8080/"
        },
        "outputId": "2b228971-8cf0-40e1-b049-766230dc58b1"
      },
      "outputs": [
        {
          "output_type": "stream",
          "name": "stdout",
          "text": [
            "Penjumlahan\n",
            "Pengurangan\n",
            "--------------------\n",
            "-1\n",
            "Perkalian\n",
            "--------------------\n",
            "6\n",
            "Pembagian\n",
            "--------------------\n",
            "0.6666666666666666\n",
            "Modulus\n",
            "--------------------\n",
            "1\n",
            "--------------------\n",
            "8\n",
            "Pembagian pembulatan flooring\n",
            "--------------------\n",
            "1\n"
          ]
        }
      ],
      "source": [
        "#penjumlahan\n",
        "print('Penjumlahan')\n",
        "# Pengurangan\n",
        "print('Pengurangan')\n",
        "print('-'*20)\n",
        "print(2-3)\n",
        "# Perkalian\n",
        "print('Perkalian')\n",
        "print('-'*20)\n",
        "print(2*3)\n",
        "#Pembagian\n",
        "print('Pembagian')\n",
        "print('-'*20)\n",
        "print(2/3)\n",
        "# Modulus\n",
        "print('Modulus')\n",
        "print('-'*20)\n",
        "print(3%2)\n",
        "# Perpangkatan\n",
        "print('-'*20)\n",
        "print(2**3)\n",
        "# Pembagian dengan hasil pembulatan flooring\n",
        "print('Pembagian pembulatan flooring')\n",
        "print('-'*20)\n",
        "print(3//2)"
      ]
    },
    {
      "cell_type": "markdown",
      "source": [
        "# Latihan Operator 1"
      ],
      "metadata": {
        "id": "hoi4Qqwryguw"
      }
    },
    {
      "cell_type": "code",
      "source": [
        "# Buatlah Program penerapan operator Aritmatika\n"
      ],
      "metadata": {
        "id": "tKpQsfPrymSj"
      },
      "execution_count": null,
      "outputs": []
    },
    {
      "cell_type": "code",
      "source": [
        "# dengan nilai-nilai yang berbeda dari contoh di atas"
      ],
      "metadata": {
        "id": "5RRnnRShyl5f"
      },
      "execution_count": null,
      "outputs": []
    },
    {
      "cell_type": "markdown",
      "source": [
        "Jawaban"
      ],
      "metadata": {
        "id": "GXpLk6ZR_MN-"
      }
    },
    {
      "cell_type": "code",
      "source": [
        "#penjumlahan\n",
        "print('Penjumlahan')\n",
        "print('-'*20)\n",
        "print(3+7)\n",
        "# Pengurangan\n",
        "print('Pengurangan')\n",
        "print('-'*20)\n",
        "print(10-8)\n",
        "# Perkalian\n",
        "print('Perkalian')\n",
        "print('-'*20)\n",
        "print(4*8)\n",
        "#Pembagian\n",
        "print('Pembagian')\n",
        "print('-'*20)\n",
        "print(12/3)\n",
        "# Modulus\n",
        "print('Modulus')\n",
        "print('-'*20)\n",
        "print(4%3)\n",
        "# Perpangkatan\n",
        "print('Perpangkatan')\n",
        "print('-'*20)\n",
        "print(10**2)\n",
        "# Pembagian dengan hasil pembulatan flooring\n",
        "print('Pembagian pembulatan flooring')\n",
        "print('-'*20)\n",
        "print(7//2)"
      ],
      "metadata": {
        "id": "SEw4qm2T_L2L",
        "colab": {
          "base_uri": "https://localhost:8080/"
        },
        "outputId": "e049d34a-ff50-465b-ceae-3cd36e924552"
      },
      "execution_count": 1,
      "outputs": [
        {
          "output_type": "stream",
          "name": "stdout",
          "text": [
            "Penjumlahan\n",
            "--------------------\n",
            "10\n",
            "Pengurangan\n",
            "--------------------\n",
            "2\n",
            "Perkalian\n",
            "--------------------\n",
            "32\n",
            "Pembagian\n",
            "--------------------\n",
            "4.0\n",
            "Modulus\n",
            "--------------------\n",
            "1\n",
            "Perpangkatan\n",
            "--------------------\n",
            "100\n",
            "Pembagian pembulatan flooring\n",
            "--------------------\n",
            "3\n"
          ]
        }
      ]
    },
    {
      "cell_type": "markdown",
      "source": [
        "# Operator Assignment"
      ],
      "metadata": {
        "id": "9jajxl_Oy4Ax"
      }
    },
    {
      "cell_type": "markdown",
      "source": [
        "Operator Assignment digunakan untuk menyimpan nilai menjadi suatu variabel"
      ],
      "metadata": {
        "id": "kmiLuVqfy8_R"
      }
    },
    {
      "cell_type": "code",
      "source": [
        "= : Contohnya x = 5 -> x = 5\n",
        "+= : Contohnya x = x + 5 -> x += 5\n",
        "-= : Contohnya x = x - 5 -> x -= 5\n",
        "*= : Contohnya x = x * 5 -> x *= 5\n",
        "/= : Contohnya x = x / 5 -> x /= 5\n",
        "%= : Contohnya x = x % 5 -> x %= 5\n",
        "//= : Contohnya x = x // 5 -> x //= 5\n",
        "**= : Contohnya x = x ** 5 -> x **= 5"
      ],
      "metadata": {
        "id": "fIh7Fa01FIDP"
      },
      "execution_count": null,
      "outputs": []
    },
    {
      "cell_type": "markdown",
      "source": [
        "# Contoh Penggunaan Operator Assignment"
      ],
      "metadata": {
        "id": "dcFSH8G2z9Cl"
      }
    },
    {
      "cell_type": "code",
      "source": [
        "#penjumlahan\n",
        "print('Penjumlahan')\n",
        "x=(5)\n",
        "x=x+5\n",
        "print(x)\n",
        "x=5\n",
        "x+=5\n",
        "print(x)\n",
        "print('-'*20)\n",
        "\n",
        "# Pengurangan\n",
        "print('Pengurangan')\n",
        "x=5\n",
        "x=x-5\n",
        "print(x)\n",
        "x=5\n",
        "x-=3\n",
        "print(x)\n",
        "print('-'*20)\n",
        "\n",
        "# Perkalian\n",
        "print('Perkalian')\n",
        "x=5\n",
        "x=x*5\n",
        "print(x)\n",
        "x=5\n",
        "x*=3\n",
        "print(x)\n",
        "print('-'*20)\n",
        "\n",
        "# Pembagian\n",
        "print('Pembagian')\n",
        "x=5\n",
        "x=x/5\n",
        "print(x)\n",
        "x=5\n",
        "x/=3\n",
        "print(x)\n",
        "print('-'*20)\n",
        "\n",
        "# Modulus\n",
        "print('Modulus')\n",
        "x=5\n",
        "x=x%5\n",
        "print(x)\n",
        "x=5\n",
        "x%=3\n",
        "print(x)\n",
        "print('-'*20)\n",
        "\n",
        "# Pembagian Flooring\n",
        "print('Pembagian Flooring')\n",
        "x=5\n",
        "x=x//5\n",
        "print(x)\n",
        "x=5\n",
        "x//=3\n",
        "print(x)\n",
        "print('-'*20)\n",
        "\n",
        "# Perpangkatan\n",
        "print('Perpangkatan')\n",
        "x=5\n",
        "x=x**5\n",
        "print(x)\n",
        "x=5\n",
        "x**=3\n",
        "print(x)\n",
        "print('-'*20)"
      ],
      "metadata": {
        "id": "zzQ_LpTQC_Ej",
        "colab": {
          "base_uri": "https://localhost:8080/"
        },
        "outputId": "b51dbd10-700a-4aaa-b309-ee0aa16aa4e9"
      },
      "execution_count": null,
      "outputs": [
        {
          "output_type": "stream",
          "name": "stdout",
          "text": [
            "Penjumlahan\n",
            "10\n",
            "10\n",
            "--------------------\n",
            "Pengurangan\n",
            "0\n",
            "2\n",
            "--------------------\n",
            "Perkalian\n",
            "25\n",
            "15\n",
            "--------------------\n",
            "Pembagian\n",
            "1.0\n",
            "1.6666666666666667\n",
            "--------------------\n",
            "Modulus\n",
            "0\n",
            "2\n",
            "--------------------\n",
            "Pembagian Flooring\n",
            "1\n",
            "1\n",
            "--------------------\n",
            "Perpangkatan\n",
            "3125\n",
            "125\n",
            "--------------------\n"
          ]
        }
      ]
    },
    {
      "cell_type": "markdown",
      "source": [
        "# Latian Operator 2"
      ],
      "metadata": {
        "id": "PH47HYCl2fdW"
      }
    },
    {
      "cell_type": "code",
      "source": [
        "# Buatlah program penerapan operator assignment"
      ],
      "metadata": {
        "id": "EbkCwiaR2k-e"
      },
      "execution_count": null,
      "outputs": []
    },
    {
      "cell_type": "code",
      "source": [
        "# dengan nilai nilai yang berbeda dari contoh di atas"
      ],
      "metadata": {
        "id": "dkDkw6Gh2kwp"
      },
      "execution_count": null,
      "outputs": []
    },
    {
      "cell_type": "markdown",
      "source": [
        "Jawaban"
      ],
      "metadata": {
        "id": "NejPGMaM_T5c"
      }
    },
    {
      "cell_type": "code",
      "source": [
        "#penjumlahan\n",
        "print('Penjumlahan')\n",
        "x=(7)\n",
        "x=x+7\n",
        "print(x)\n",
        "x=7\n",
        "x+=7\n",
        "print(x)\n",
        "print('-'*20)\n",
        "\n",
        "# Pengurangan\n",
        "print('Pengurangan')\n",
        "x=3\n",
        "x=x-3\n",
        "print(x)\n",
        "x=3\n",
        "x-=3\n",
        "print(x)\n",
        "print('-'*20)\n",
        "\n",
        "# Perkalian\n",
        "print('Perkalian')\n",
        "x=8\n",
        "x=x*8\n",
        "print(x)\n",
        "x=8\n",
        "x*=8\n",
        "print(x)\n",
        "print('-'*20)\n",
        "\n",
        "# Pembagian\n",
        "print('Pembagian')\n",
        "x=10\n",
        "x=x/10\n",
        "print(x)\n",
        "x=10\n",
        "x/=10\n",
        "print(x)\n",
        "print('-'*20)\n",
        "\n",
        "# Modulus\n",
        "print('Modulus')\n",
        "x=7\n",
        "x=x%7\n",
        "print(x)\n",
        "x=7\n",
        "x%=3\n",
        "print(x)\n",
        "print('-'*20)\n",
        "\n",
        "# Pembagian Flooring\n",
        "print('Pembagian Flooring')\n",
        "x=8\n",
        "x=x//8\n",
        "print(x)\n",
        "x=8\n",
        "x//=4\n",
        "print(x)\n",
        "print('-'*20)\n",
        "\n",
        "# Perpangkatan\n",
        "print('Perpangkatan')\n",
        "x=6\n",
        "x=x**6\n",
        "print(x)\n",
        "x=6\n",
        "x**=3\n",
        "print(x)\n",
        "print('-'*20)"
      ],
      "metadata": {
        "id": "MhrGKPNC_The",
        "colab": {
          "base_uri": "https://localhost:8080/"
        },
        "outputId": "dd918a42-a341-466f-9cdc-0dd789030ce6"
      },
      "execution_count": 2,
      "outputs": [
        {
          "output_type": "stream",
          "name": "stdout",
          "text": [
            "Penjumlahan\n",
            "14\n",
            "14\n",
            "--------------------\n",
            "Pengurangan\n",
            "0\n",
            "0\n",
            "--------------------\n",
            "Perkalian\n",
            "64\n",
            "64\n",
            "--------------------\n",
            "Pembagian\n",
            "1.0\n",
            "1.0\n",
            "--------------------\n",
            "Modulus\n",
            "0\n",
            "1\n",
            "--------------------\n",
            "Pembagian Flooring\n",
            "1\n",
            "2\n",
            "--------------------\n",
            "Perpangkatan\n",
            "46656\n",
            "216\n",
            "--------------------\n"
          ]
        }
      ]
    },
    {
      "cell_type": "markdown",
      "source": [
        "# Operator Pembanding"
      ],
      "metadata": {
        "id": "-Q9lSEaT3Aus"
      }
    },
    {
      "cell_type": "markdown",
      "source": [
        "Operator Pembanding digunakan untuk membandingkan 2 niai atau variabel\n",
        "\n",
        "Macam macam Operator pembanding:"
      ],
      "metadata": {
        "id": "wQFNGB-h3FKl"
      }
    },
    {
      "cell_type": "code",
      "source": [
        "== -> samadengan\n",
        "!= -> tidak samadengan\n",
        "> -> lebih dari\n",
        "< -> kurang dari\n",
        ">= lebih dari dan samadengan\n",
        "<= kurang dari dan samadengan"
      ],
      "metadata": {
        "id": "w0TUOW4f3dVx"
      },
      "execution_count": null,
      "outputs": []
    },
    {
      "cell_type": "markdown",
      "source": [
        "# Contoh penggunaan operator pembanding"
      ],
      "metadata": {
        "id": "dDdiKprB31qi"
      }
    },
    {
      "cell_type": "code",
      "source": [
        "print(2==2)\n",
        "print(2!=2)\n",
        "print(2>2)\n",
        "print(2<2)\n",
        "print(2>=2)\n",
        "print(2<=2)"
      ],
      "metadata": {
        "colab": {
          "base_uri": "https://localhost:8080/"
        },
        "id": "RnLOsCTx-wqh",
        "outputId": "cb83d74b-e808-43fb-9faa-4c9065cfe978"
      },
      "execution_count": null,
      "outputs": [
        {
          "output_type": "stream",
          "name": "stdout",
          "text": [
            "True\n",
            "False\n",
            "False\n",
            "False\n",
            "True\n",
            "True\n"
          ]
        }
      ]
    },
    {
      "cell_type": "markdown",
      "source": [
        "# Latihan Operator 3"
      ],
      "metadata": {
        "id": "3HoQIqF03-mB"
      }
    },
    {
      "cell_type": "code",
      "source": [
        "# Buatlah program penerapan operator pembanding"
      ],
      "metadata": {
        "id": "edrnLAen4CDb"
      },
      "execution_count": null,
      "outputs": []
    },
    {
      "cell_type": "code",
      "source": [
        "# dengan nilai nilai yang berbeda dari contoh di atas"
      ],
      "metadata": {
        "id": "UkLuHeYX4B_8"
      },
      "execution_count": null,
      "outputs": []
    },
    {
      "cell_type": "markdown",
      "source": [
        "Jawaban"
      ],
      "metadata": {
        "id": "-UxNyysx_X1C"
      }
    },
    {
      "cell_type": "code",
      "source": [
        "print(7==3)\n",
        "print(10!=8)\n",
        "print(3>5)\n",
        "print(2<9)\n",
        "print(13>=6)\n",
        "print(1<=0)"
      ],
      "metadata": {
        "id": "3iZFB-6I_Xa4",
        "colab": {
          "base_uri": "https://localhost:8080/"
        },
        "outputId": "77f05260-d7d3-446e-e069-e8dc174c4721"
      },
      "execution_count": null,
      "outputs": [
        {
          "output_type": "stream",
          "name": "stdout",
          "text": [
            "False\n",
            "True\n",
            "False\n",
            "True\n",
            "True\n",
            "False\n"
          ]
        }
      ]
    },
    {
      "cell_type": "markdown",
      "source": [
        "# Operator Logika"
      ],
      "metadata": {
        "id": "qqGcTrIU4Zib"
      }
    },
    {
      "cell_type": "markdown",
      "source": [
        "Operator logika digunakan untuk mengkombinasikan statment kondisional.\n",
        "\n",
        "Macam macam operator logika:"
      ],
      "metadata": {
        "id": "DAyJ169E4dNM"
      }
    },
    {
      "cell_type": "code",
      "source": [
        "and -> kondisi menjadi benar apabila semua statementnya benar\n",
        "or -> kondisi menjadi benar apabila salah satu statementnya ada yang benar\n",
        "not -> membalik hasil dari benar ke salah dan salah ke benar"
      ],
      "metadata": {
        "id": "GddnvZJz4sB0"
      },
      "execution_count": null,
      "outputs": []
    },
    {
      "cell_type": "markdown",
      "source": [
        "# Contoh penggunaan operator logika"
      ],
      "metadata": {
        "id": "f4h1Tifu4rF4"
      }
    },
    {
      "cell_type": "code",
      "source": [
        "print(True and False)\n",
        "print(False or False)\n",
        "print(not False and True)"
      ],
      "metadata": {
        "colab": {
          "base_uri": "https://localhost:8080/"
        },
        "id": "xH5dFy8__CUN",
        "outputId": "bcfdc7ba-a449-4697-ed22-c8eb4e2a10d2"
      },
      "execution_count": null,
      "outputs": [
        {
          "output_type": "stream",
          "name": "stdout",
          "text": [
            "False\n",
            "False\n",
            "True\n"
          ]
        }
      ]
    },
    {
      "cell_type": "markdown",
      "source": [
        "# Latihan Operator 4"
      ],
      "metadata": {
        "id": "DCwZht3J5XSM"
      }
    },
    {
      "cell_type": "code",
      "source": [
        "# Buatlah program penerapan operator logika"
      ],
      "metadata": {
        "id": "104skcx-5a0F"
      },
      "execution_count": null,
      "outputs": []
    },
    {
      "cell_type": "code",
      "source": [
        "# dengan nilai nilai yang berbeda dar contoh di atas"
      ],
      "metadata": {
        "id": "OQwcmPhD5aww"
      },
      "execution_count": null,
      "outputs": []
    },
    {
      "cell_type": "markdown",
      "source": [
        "Jawaban"
      ],
      "metadata": {
        "id": "wY0iuYJ2_bA1"
      }
    },
    {
      "cell_type": "code",
      "source": [
        "print(False and True)\n",
        "print(True or True)\n",
        "print(not False or True)"
      ],
      "metadata": {
        "id": "sdmAeRmd_apt",
        "colab": {
          "base_uri": "https://localhost:8080/"
        },
        "outputId": "e4ccee15-e83a-4896-c2ad-521becede973"
      },
      "execution_count": null,
      "outputs": [
        {
          "output_type": "stream",
          "name": "stdout",
          "text": [
            "False\n",
            "True\n",
            "True\n"
          ]
        }
      ]
    },
    {
      "cell_type": "markdown",
      "source": [
        "# Operator Membership / Keanggotaan"
      ],
      "metadata": {
        "id": "hekyoRmY5psp"
      }
    },
    {
      "cell_type": "markdown",
      "source": [
        "Operator keanggotaan digunakan untuk menguji apakah urutan disajikan dalam bentuk objek.\n",
        "\n",
        "Macam macam operator Keanggotaan:"
      ],
      "metadata": {
        "id": "PnDBvvth5u0I"
      }
    },
    {
      "cell_type": "code",
      "source": [
        "in      -> return True ketika nilai tertentu dalam sebuah urutan ada\n",
        "not in  -> return True ketika nilai tertentu dalam sebuah urutan tidak ada"
      ],
      "metadata": {
        "id": "rvF-dyvm6Kvn"
      },
      "execution_count": null,
      "outputs": []
    },
    {
      "cell_type": "markdown",
      "source": [
        "# Contoh penggunaan operator keanggotaan"
      ],
      "metadata": {
        "id": "aFKwXBt0Epzv"
      }
    },
    {
      "cell_type": "code",
      "source": [
        "a=(1,2,3,4,5,6)\n",
        "b=2\n",
        "\n",
        "print(b in a)\n",
        "\n",
        "print('-'*20)\n",
        "a=(1,2,3,4,5,6)\n",
        "b=7\n",
        "print(b not in a)\n"
      ],
      "metadata": {
        "colab": {
          "base_uri": "https://localhost:8080/"
        },
        "id": "Sv8dlwRw_SFY",
        "outputId": "8c13f8e8-7360-4248-9d75-472875a522e9"
      },
      "execution_count": null,
      "outputs": [
        {
          "output_type": "stream",
          "name": "stdout",
          "text": [
            "True\n",
            "--------------------\n",
            "True\n"
          ]
        }
      ]
    },
    {
      "cell_type": "markdown",
      "source": [
        "# Latihan Operator 5"
      ],
      "metadata": {
        "id": "jT2wMF9A7dbw"
      }
    },
    {
      "cell_type": "code",
      "source": [
        "# Buatlah program penerapan operator keanggotaan membership"
      ],
      "metadata": {
        "id": "kjRfIi7I7dF6"
      },
      "execution_count": null,
      "outputs": []
    },
    {
      "cell_type": "code",
      "source": [
        "# dengan nilai nilai yang berbeda dari contoh di atas"
      ],
      "metadata": {
        "id": "XBHmd--O7czv"
      },
      "execution_count": null,
      "outputs": []
    },
    {
      "cell_type": "markdown",
      "source": [
        "Jawaban"
      ],
      "metadata": {
        "id": "bz6aGLFS_ear"
      }
    },
    {
      "cell_type": "code",
      "source": [
        "a=(1,3,5,7,8,9,10)\n",
        "b=3\n",
        "\n",
        "print(b in a)\n",
        "\n",
        "print('-'*20)\n",
        "a=(1,3,5,7,9)\n",
        "b=5\n",
        "print(b not in a)\n"
      ],
      "metadata": {
        "id": "XI23B2Tq_eFH",
        "colab": {
          "base_uri": "https://localhost:8080/"
        },
        "outputId": "ab73a8dc-71da-40fb-d584-09226592d1df"
      },
      "execution_count": null,
      "outputs": [
        {
          "output_type": "stream",
          "name": "stdout",
          "text": [
            "True\n",
            "--------------------\n",
            "False\n"
          ]
        }
      ]
    },
    {
      "cell_type": "markdown",
      "source": [
        "# Variabel"
      ],
      "metadata": {
        "id": "ICXVcr2HEgIe"
      }
    },
    {
      "cell_type": "markdown",
      "source": [
        "Variabel: Lokal penyimpanan yang dapat digunakan untuk menampung sebuah data atau informasi.\n",
        "\n",
        "Syarat syarat penamaan variabel\n",
        "1. Karakter-karakter yang digunakan untuk penamaan variabel adalah alphabet, angka dan underscore.\n",
        "2. Karakter pertama variabel harus berupa huruf atau garis bawah/underscore, dan tidak bisa berupa angka.\n",
        "3. Nama sebuah variabel tidak bisa menggunakan keyword atau reserved words dari bahasa python seperti for, if, dan lainnya.\n",
        "4. Karakter pada nama variabel bersifat sensitif (case-sensitif)."
      ],
      "metadata": {
        "id": "7El_zCor7xvC"
      }
    },
    {
      "cell_type": "code",
      "source": [
        "# Membuat variabel\n",
        "kalimat ='ini adalah variabel'\n",
        "bilangan1 = 4\n",
        "bilangan2 = 2.5\n",
        "bilangan3 = True\n",
        "bilangan4 = 1j + 4"
      ],
      "metadata": {
        "id": "ll7MAoIm_n0E"
      },
      "execution_count": null,
      "outputs": []
    },
    {
      "cell_type": "code",
      "source": [
        "# Menampilkan variabel\n",
        "print(kalimat)\n",
        "print(bilangan1)\n",
        "print(bilangan2)\n",
        "print(bilangan3)\n",
        "print(bilangan4)"
      ],
      "metadata": {
        "colab": {
          "base_uri": "https://localhost:8080/"
        },
        "id": "jcmdBmyD_5Qh",
        "outputId": "ffc4c514-76e2-4bf9-82bb-67666beede8e"
      },
      "execution_count": null,
      "outputs": [
        {
          "output_type": "stream",
          "name": "stdout",
          "text": [
            "ini adalah variabel\n",
            "4\n",
            "2.5\n",
            "True\n",
            "(4+1j)\n"
          ]
        }
      ]
    },
    {
      "cell_type": "markdown",
      "source": [
        "# Latihan 1"
      ],
      "metadata": {
        "id": "IYUEjZ549FPu"
      }
    },
    {
      "cell_type": "code",
      "source": [
        "# buatlah 5 variabel kalian sendiri dengan 5 macam tipe data"
      ],
      "metadata": {
        "id": "yFJhmJuF9Eo4"
      },
      "execution_count": null,
      "outputs": []
    },
    {
      "cell_type": "code",
      "source": [
        "# lalu tampilkan variabel menggunakan fungsi print"
      ],
      "metadata": {
        "id": "N8_AbYG79D2r"
      },
      "execution_count": null,
      "outputs": []
    },
    {
      "cell_type": "markdown",
      "source": [
        "Jawaban"
      ],
      "metadata": {
        "id": "dpVt4TD69SXJ"
      }
    },
    {
      "cell_type": "code",
      "source": [
        "# membuat variable\n",
        "kalimat = 'ini adalah variabel'\n",
        "bilangan5 = 3\n",
        "bilangan6 = 1.5\n",
        "bilangan7 = True\n",
        "bilangan8 = 7j + 3"
      ],
      "metadata": {
        "id": "zuZMWKy29Dqb"
      },
      "execution_count": 3,
      "outputs": []
    },
    {
      "cell_type": "code",
      "source": [
        "# Menampilkan variabel\n",
        "print(kalimat)\n",
        "print(bilangan5)\n",
        "print(bilangan6)\n",
        "print(bilangan7)\n",
        "print(bilangan8)"
      ],
      "metadata": {
        "colab": {
          "base_uri": "https://localhost:8080/"
        },
        "id": "R5ZOrU__oO8_",
        "outputId": "1ed8e6e5-dcd9-4c42-a19b-cb7b65e3306e"
      },
      "execution_count": 4,
      "outputs": [
        {
          "output_type": "stream",
          "name": "stdout",
          "text": [
            "ini adalah variabel\n",
            "3\n",
            "1.5\n",
            "True\n",
            "(3+7j)\n"
          ]
        }
      ]
    },
    {
      "cell_type": "markdown",
      "source": [
        "# Tipe Data & Konversi Tipe Data"
      ],
      "metadata": {
        "id": "nQcB2vUd9Vns"
      }
    },
    {
      "cell_type": "markdown",
      "source": [
        "#Tipe Data"
      ],
      "metadata": {
        "id": "7H_QhKHm9dYc"
      }
    },
    {
      "cell_type": "markdown",
      "source": [
        "5 tipe data yaitu\n",
        "\n",
        "1. integer atau bilangan bulat\n",
        "2. float atau bilangan desimal\n",
        "3. string atau kalimat\n",
        "4. Boolean yang terdiri dari True dan False\n",
        "5. Complex yang merupakan bilangan kompleks"
      ],
      "metadata": {
        "id": "GsXidjq_9i5m"
      }
    },
    {
      "cell_type": "code",
      "source": [
        "# Menampilkan tipe data\n",
        "print(type(kalimat))\n",
        "print(type(bilangan1))\n",
        "print(type(bilangan2))\n",
        "print(type(bilangan3))\n",
        "print(type(bilangan4))"
      ],
      "metadata": {
        "colab": {
          "base_uri": "https://localhost:8080/"
        },
        "id": "b7-w9nkIAKVa",
        "outputId": "8eafa848-b9e2-40ec-f76e-2c4cede80598"
      },
      "execution_count": null,
      "outputs": [
        {
          "output_type": "stream",
          "name": "stdout",
          "text": [
            "<class 'str'>\n",
            "<class 'int'>\n",
            "<class 'float'>\n",
            "<class 'bool'>\n",
            "<class 'complex'>\n"
          ]
        }
      ]
    },
    {
      "cell_type": "markdown",
      "source": [
        "# Latihan 2"
      ],
      "metadata": {
        "id": "t8PxBBI0-HQj"
      }
    },
    {
      "cell_type": "code",
      "source": [
        "# cek tipe data variabel yang telah kalian buat pada latihan 1"
      ],
      "metadata": {
        "id": "N8DplFWN-GK7"
      },
      "execution_count": null,
      "outputs": []
    },
    {
      "cell_type": "markdown",
      "source": [
        "Jawaban"
      ],
      "metadata": {
        "id": "am5CtjHE-F3Q"
      }
    },
    {
      "cell_type": "code",
      "source": [
        "# menampilkan tipe data\n",
        "print(type(kalimat))\n",
        "print(type(bilangan5))\n",
        "print(type(bilangan6))\n",
        "print(type(bilangan7))\n",
        "print(type(bilangan8))"
      ],
      "metadata": {
        "id": "uFjORxcu-FRO",
        "colab": {
          "base_uri": "https://localhost:8080/"
        },
        "outputId": "d6ec2e60-9ddb-46dd-ba62-9542e48878ed"
      },
      "execution_count": null,
      "outputs": [
        {
          "output_type": "stream",
          "name": "stdout",
          "text": [
            "<class 'str'>\n",
            "<class 'int'>\n",
            "<class 'float'>\n",
            "<class 'bool'>\n",
            "<class 'complex'>\n"
          ]
        }
      ]
    },
    {
      "cell_type": "markdown",
      "source": [
        "# Konversi Tipe Data"
      ],
      "metadata": {
        "id": "AM2aiGpC-VUV"
      }
    },
    {
      "cell_type": "code",
      "source": [
        "# Konversi tipe data integer\n",
        "print(int(bilangan2))\n",
        "print(int(bilangan3))"
      ],
      "metadata": {
        "colab": {
          "base_uri": "https://localhost:8080/"
        },
        "id": "IBcmRSSGAdi5",
        "outputId": "50851d07-109e-4e45-b24b-70965f971033"
      },
      "execution_count": null,
      "outputs": [
        {
          "output_type": "stream",
          "name": "stdout",
          "text": [
            "2\n",
            "1\n"
          ]
        }
      ]
    },
    {
      "cell_type": "code",
      "source": [
        "# Konversi tipe data float\n",
        "print(float(bilangan1))\n",
        "print(float(bilangan3))"
      ],
      "metadata": {
        "colab": {
          "base_uri": "https://localhost:8080/"
        },
        "id": "BzVujVk_An6H",
        "outputId": "5c6c4203-66dc-4655-9ec2-e4994ef8082b"
      },
      "execution_count": null,
      "outputs": [
        {
          "output_type": "stream",
          "name": "stdout",
          "text": [
            "4.0\n",
            "1.0\n"
          ]
        }
      ]
    },
    {
      "cell_type": "code",
      "source": [
        "# Konversi tipe data string\n",
        "print(str(bilangan1))\n",
        "print(str(bilangan2))\n",
        "print(str(bilangan3))"
      ],
      "metadata": {
        "colab": {
          "base_uri": "https://localhost:8080/"
        },
        "id": "yu09rbtuA9f1",
        "outputId": "66e1da38-a8ff-4819-b0ad-68534eda6220"
      },
      "execution_count": null,
      "outputs": [
        {
          "output_type": "stream",
          "name": "stdout",
          "text": [
            "4\n",
            "2.5\n",
            "True\n"
          ]
        }
      ]
    },
    {
      "cell_type": "code",
      "source": [
        "A = str(bilangan1)\n",
        "B = str(bilangan2)\n",
        "print(A+B)"
      ],
      "metadata": {
        "colab": {
          "base_uri": "https://localhost:8080/"
        },
        "id": "oMxy78seF5eH",
        "outputId": "8029ba12-11ac-46b4-f7b1-c0be9b3161c6"
      },
      "execution_count": null,
      "outputs": [
        {
          "output_type": "stream",
          "name": "stdout",
          "text": [
            "42.5\n"
          ]
        }
      ]
    },
    {
      "cell_type": "code",
      "source": [
        "# Konersi tipe data bool\n",
        "print(bool(bilangan1))\n",
        "print(bool(bilangan2))"
      ],
      "metadata": {
        "colab": {
          "base_uri": "https://localhost:8080/"
        },
        "id": "T-rs1umfBETK",
        "outputId": "f3d376d1-711b-436c-e612-a4338519e018"
      },
      "execution_count": null,
      "outputs": [
        {
          "output_type": "stream",
          "name": "stdout",
          "text": [
            "True\n",
            "True\n"
          ]
        }
      ]
    },
    {
      "cell_type": "code",
      "source": [
        "# Konversi tipe data complex\n",
        "print(complex(bilangan1))\n",
        "print(complex(bilangan2))\n",
        "print(complex(bilangan3))"
      ],
      "metadata": {
        "colab": {
          "base_uri": "https://localhost:8080/"
        },
        "id": "wZaEwdV2BNA5",
        "outputId": "b061c18c-1d4e-4b21-bc49-5cc58f17bf8b"
      },
      "execution_count": null,
      "outputs": [
        {
          "output_type": "stream",
          "name": "stdout",
          "text": [
            "(4+0j)\n",
            "(2.5+0j)\n",
            "(1+0j)\n"
          ]
        }
      ]
    },
    {
      "cell_type": "markdown",
      "source": [
        "# Latihan 3"
      ],
      "metadata": {
        "id": "2CjaExJe-tEb"
      }
    },
    {
      "cell_type": "code",
      "source": [
        "# konversi tipe data yang telah kalian buat"
      ],
      "metadata": {
        "id": "w_SlFb-8-soD"
      },
      "execution_count": null,
      "outputs": []
    },
    {
      "cell_type": "code",
      "source": [
        "# menjadi berbagai macam tipe data"
      ],
      "metadata": {
        "id": "j1pHiIps-sa0"
      },
      "execution_count": null,
      "outputs": []
    },
    {
      "cell_type": "markdown",
      "source": [
        "Jawaban"
      ],
      "metadata": {
        "id": "BeNFf4Hw-qtq"
      }
    },
    {
      "cell_type": "code",
      "source": [
        "# Konversi tipe data integer\n",
        "print(int(bilangan6))\n",
        "print(int(bilangan7))"
      ],
      "metadata": {
        "id": "iv6Jt3v1BdiM",
        "colab": {
          "base_uri": "https://localhost:8080/"
        },
        "outputId": "ee30c48b-ff7a-4ea5-c32b-c15ec5c1ded3"
      },
      "execution_count": null,
      "outputs": [
        {
          "output_type": "stream",
          "name": "stdout",
          "text": [
            "1\n",
            "1\n"
          ]
        }
      ]
    },
    {
      "cell_type": "code",
      "source": [
        "# Konversi tipe data float\n",
        "print(float(bilangan5))\n",
        "print(float(bilangan7))"
      ],
      "metadata": {
        "colab": {
          "base_uri": "https://localhost:8080/"
        },
        "id": "Mw7TqyIOBhhZ",
        "outputId": "dedfe5f5-0c89-473d-dd91-2c36a67ce6ad"
      },
      "execution_count": 7,
      "outputs": [
        {
          "output_type": "stream",
          "name": "stdout",
          "text": [
            "3.0\n",
            "1.0\n"
          ]
        }
      ]
    },
    {
      "cell_type": "code",
      "source": [
        "# Konversi tipe data string\n",
        "print(str(bilangan5))\n",
        "print(str(bilangan6))\n",
        "print(str(bilangan7))"
      ],
      "metadata": {
        "colab": {
          "base_uri": "https://localhost:8080/"
        },
        "id": "pirneP-YB_2Z",
        "outputId": "b41f13bc-e63a-4d92-9c09-d56db9050931"
      },
      "execution_count": null,
      "outputs": [
        {
          "output_type": "stream",
          "name": "stdout",
          "text": [
            "3\n",
            "1.5\n",
            "True\n"
          ]
        }
      ]
    },
    {
      "cell_type": "code",
      "source": [
        "# Konersi tipe data bool\n",
        "print(bool(bilangan5))\n",
        "print(bool(bilangan6))"
      ],
      "metadata": {
        "colab": {
          "base_uri": "https://localhost:8080/"
        },
        "id": "m8zoxEEhCLHJ",
        "outputId": "03ad55ce-9a3c-452e-f45b-554e70fe1345"
      },
      "execution_count": null,
      "outputs": [
        {
          "output_type": "stream",
          "name": "stdout",
          "text": [
            "True\n",
            "True\n"
          ]
        }
      ]
    },
    {
      "cell_type": "code",
      "source": [
        "# Konversi tipe data complex\n",
        "print(complex(bilangan5))\n",
        "print(complex(bilangan6))\n",
        "print(complex(bilangan8))"
      ],
      "metadata": {
        "colab": {
          "base_uri": "https://localhost:8080/"
        },
        "id": "_T0Jv8xtCSHQ",
        "outputId": "44839a5c-f7a8-4a9a-a420-e0ee70b2515a"
      },
      "execution_count": 5,
      "outputs": [
        {
          "output_type": "stream",
          "name": "stdout",
          "text": [
            "(3+0j)\n",
            "(1.5+0j)\n",
            "(3+7j)\n"
          ]
        }
      ]
    },
    {
      "cell_type": "code",
      "source": [],
      "metadata": {
        "id": "XLjpYdK3CXeP"
      },
      "execution_count": null,
      "outputs": []
    }
  ]
}